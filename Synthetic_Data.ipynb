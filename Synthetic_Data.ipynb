{
  "cells": [
    {
      "cell_type": "markdown",
      "metadata": {
        "id": "nMS5ZXQNWAgJ"
      },
      "source": [
        "# Generating Synthetic Data with AGENT Framework\n",
        "## Introduction\n",
        "This document illustrates the process of generating synthetic data using the Antigranular Enterprise (AGENT) framework. By leveraging AGENT, we aim to produce a dataset that mimics the statistical properties of the original diamonds dataset while ensuring the privacy of the underlying data through differential privacy techniques.\n",
        "\n",
        "## Setup and Configuration\n",
        "Before generating synthetic data, we import necessary libraries and configure the AGENT framework with the required settings, including the server URL and API key for authentication."
      ]
    },
    {
      "cell_type": "code",
      "execution_count": null,
      "metadata": {
        "colab": {
          "base_uri": "https://localhost:8080/"
        },
        "id": "ERUuvaxtGWNZ",
        "outputId": "d60490a7-6d4b-410f-af55-a7501d88ea5c"
      },
      "outputs": [
        {
          "name": "stdout",
          "output_type": "stream",
          "text": [
            "Your request is pending approval. Please visit the following URL to approve the request: http://agent-dev.antigranular.com\n",
            "\u001b[92mRequest approved.\u001b[0m\n",
            "Connected to Antigranular server session id: faba2199-9237-4c57-888b-c27fd2d7640c\n",
            "Cell magic '%%ag' registered successfully, use `%%ag` in a notebook cell to execute your python code on Antigranular private python server\n"
          ]
        }
      ],
      "source": [
        "!pip install antigranular_enterprise -U 1> /dev/null 2> /dev/null\n",
        "import antigranular_enterprise as ag\n",
        "import seaborn as sns\n",
        "import pandas as pd\n",
        "import matplotlib.pyplot as plt\n",
        "\n",
        "# These details will be used going forward, you can have and toggle between multiple profiles\n",
        "ag.write_config(profile='default', yaml_config=\"\"\"\n",
        "AGENT_JUPYTER_URL: https://agent.antigranular.com\n",
        "AGENT_JUPYTER_PORT: 443\n",
        "AGENT_CONSOLE_URL: http://agent-api-dev.antigranular.com\n",
        "\"\"\")\n",
        "\n",
        "# Connect in via your API key\n",
        "ag.read_config(\"default\")\n",
        "session = ag.login(api_key=\"<api_key>\")"
      ]
    },
    {
      "cell_type": "markdown",
      "metadata": {
        "id": "IWsGnslNWG64"
      },
      "source": [
        "## Loading and Preparing the Dataset\n",
        "We load the `diamonds` dataset from Seaborn and prepare it for synthesis by importing it into the AGENT session."
      ]
    },
    {
      "cell_type": "code",
      "execution_count": null,
      "metadata": {
        "colab": {
          "base_uri": "https://localhost:8080/"
        },
        "id": "HHN89V_wGnH_",
        "outputId": "68770a09-1610-4741-bb13-c45d20dda9fa"
      },
      "outputs": [
        {
          "name": "stdout",
          "output_type": "stream",
          "text": [
            "   carat      cut color clarity  depth  table  price     x     y     z\n",
            "0   0.23    Ideal     E     SI2   61.5   55.0    326  3.95  3.98  2.43\n",
            "1   0.21  Premium     E     SI1   59.8   61.0    326  3.89  3.84  2.31\n",
            "2   0.23     Good     E     VS1   56.9   65.0    327  4.05  4.07  2.31\n",
            "3   0.29  Premium     I     VS2   62.4   58.0    334  4.20  4.23  2.63\n",
            "4   0.31     Good     J     SI2   63.3   58.0    335  4.34  4.35  2.75\n"
          ]
        }
      ],
      "source": [
        "# Load the dataset\n",
        "diamonds = sns.load_dataset('diamonds')\n",
        "\n",
        "# Display the first few rows of the dataframe\n",
        "print(diamonds.head())"
      ]
    },
    {
      "cell_type": "code",
      "execution_count": null,
      "metadata": {
        "colab": {
          "base_uri": "https://localhost:8080/"
        },
        "id": "ozTtXiltGpFR",
        "outputId": "ef131e4d-d7f7-4ec5-e010-383f5987679e"
      },
      "outputs": [
        {
          "name": "stdout",
          "output_type": "stream",
          "text": [
            "dataframe cached to server, loading to kernel...\n",
            "DataFrame loaded successfully to the kernel\n",
            "\n"
          ]
        }
      ],
      "source": [
        "session.private_import(diamonds, \"df\")"
      ]
    },
    {
      "cell_type": "code",
      "execution_count": null,
      "metadata": {
        "id": "X-u8SqFdGxw-"
      },
      "outputs": [],
      "source": [
        "%%ag\n",
        "import op_pandas as opd\n",
        "\n",
        "pdf = opd.PrivateDataFrame(\n",
        "    df,\n",
        "    metadata = {\n",
        "        \"carat\": (0.0, 5.1),\n",
        "        \"depth\": (40, 80),\n",
        "        \"table\": (2, 100),\n",
        "        \"price\": (100, 20000),\n",
        "        \"x\": (0, 11),\n",
        "        \"y\": (0, 60),\n",
        "        \"z\": (0, 35),\n",
        "    },\n",
        "    categorical_metadata = {\n",
        "        \"cut\": ['Ideal', 'Premium', 'Good', 'Very Good', 'Fair'],\n",
        "        \"color\": ['E', 'I', 'J', 'H', 'F', 'G', 'D'],\n",
        "        \"clarity\": ['SI2', 'SI1', 'VS1', 'VS2', 'VVS2', 'VVS1', 'I1', 'IF']\n",
        "    }\n",
        ")"
      ]
    },
    {
      "cell_type": "markdown",
      "metadata": {
        "id": "pQwfDs8aWRMe"
      },
      "source": [
        "## Synthesizing Data with AGENT\n",
        "Using AGENT's op_snsynth module, we create a synthesizer object and generate synthetic data that resembles the original dataset in statistical properties but is generated in a way that protects the privacy of the underlying data."
      ]
    },
    {
      "cell_type": "code",
      "execution_count": null,
      "metadata": {
        "colab": {
          "base_uri": "https://localhost:8080/"
        },
        "id": "cMA1-nUsGG5U",
        "outputId": "0e816aa5-986b-4a81-c8d5-8a6e3374ca39"
      },
      "outputs": [
        {
          "name": "stdout",
          "output_type": "stream",
          "text": [
            "Fitting with 552960000000 dimensions\n",
            "\n",
            "Getting cliques\n",
            "\n",
            "Estimating marginals\n",
            "\n"
          ]
        }
      ],
      "source": [
        "%%ag\n",
        "import op_snsynth\n",
        "import pandas as pd\n",
        "\n",
        "categorical_columns = list(pdf.categorical_metadata.keys())\n",
        "\n",
        "synth = op_snsynth.Synthesizer.create('mst', epsilon=1.0, verbose=True)\n",
        "sample = synth.fit_sample(\n",
        "  pdf,\n",
        "  categorical_columns = list(pdf.categorical_metadata.keys()),\n",
        "  continuous_columns = list(pdf.metadata.keys()),\n",
        "  preprocessor_eps=0.5,\n",
        "  nullable=True\n",
        ")"
      ]
    },
    {
      "cell_type": "code",
      "execution_count": null,
      "metadata": {
        "colab": {
          "base_uri": "https://localhost:8080/"
        },
        "id": "CHU6YIxYHJN4",
        "outputId": "5f6001f6-89f9-47dc-eacc-e1fee8902306"
      },
      "outputs": [
        {
          "name": "stdout",
          "output_type": "stream",
          "text": [
            "Setting up exported variable in local environment: samples\n"
          ]
        }
      ],
      "source": [
        "%%ag\n",
        "export(sample, \"samples\")"
      ]
    },
    {
      "cell_type": "markdown",
      "metadata": {
        "id": "LMxjH0anWjee"
      },
      "source": [
        "## Analyzing the Synthetic Data\n",
        "\n",
        "After generating the synthetic data, we compare its statistical properties to the original dataset. This comparison helps validate the utility of the synthetic data for analytical purposes."
      ]
    },
    {
      "cell_type": "code",
      "execution_count": null,
      "metadata": {
        "colab": {
          "base_uri": "https://localhost:8080/",
          "height": 331
        },
        "id": "2fdJV54JUcsZ",
        "outputId": "d0b21559-344d-45f9-8209-204b76354930"
      },
      "outputs": [
        {
          "data": {
            "application/vnd.google.colaboratory.intrinsic+json": {
              "summary": "{\n  \"name\": \"compare_describe(diamonds\",\n  \"rows\": 8,\n  \"fields\": [\n    {\n      \"column\": \"True | \\u03b5-DP\",\n      \"properties\": {\n        \"dtype\": \"string\",\n        \"num_unique_values\": 8,\n        \"samples\": [\n          \"mean\",\n          \"50%\",\n          \"count\"\n        ],\n        \"semantic_type\": \"\",\n        \"description\": \"\"\n      }\n    },\n    {\n      \"column\": \"carat\",\n      \"properties\": {\n        \"dtype\": \"string\",\n        \"num_unique_values\": 8,\n        \"samples\": [\n          \"0.8 | 0.79\",\n          \"0.7 | 0.6\",\n          \"53940.0 | 53937.0\"\n        ],\n        \"semantic_type\": \"\",\n        \"description\": \"\"\n      }\n    },\n    {\n      \"column\": \"depth\",\n      \"properties\": {\n        \"dtype\": \"string\",\n        \"num_unique_values\": 8,\n        \"samples\": [\n          \"61.75 | 63.8\",\n          \"61.8 | 65.6\",\n          \"53940.0 | 53909.0\"\n        ],\n        \"semantic_type\": \"\",\n        \"description\": \"\"\n      }\n    },\n    {\n      \"column\": \"table\",\n      \"properties\": {\n        \"dtype\": \"string\",\n        \"num_unique_values\": 8,\n        \"samples\": [\n          \"57.46 | 56.88\",\n          \"57.0 | 56.0\",\n          \"53940.0 | 53934.0\"\n        ],\n        \"semantic_type\": \"\",\n        \"description\": \"\"\n      }\n    },\n    {\n      \"column\": \"price\",\n      \"properties\": {\n        \"dtype\": \"string\",\n        \"num_unique_values\": 8,\n        \"samples\": [\n          \"3932.8 | 4289.11\",\n          \"2401.0 | 1881.6\",\n          \"53940.0 | 53915.0\"\n        ],\n        \"semantic_type\": \"\",\n        \"description\": \"\"\n      }\n    },\n    {\n      \"column\": \"x\",\n      \"properties\": {\n        \"dtype\": \"string\",\n        \"num_unique_values\": 8,\n        \"samples\": [\n          \"5.73 | 5.7\",\n          \"5.7 | 5.5\",\n          \"53940.0 | 53937.0\"\n        ],\n        \"semantic_type\": \"\",\n        \"description\": \"\"\n      }\n    },\n    {\n      \"column\": \"y\",\n      \"properties\": {\n        \"dtype\": \"string\",\n        \"num_unique_values\": 8,\n        \"samples\": [\n          \"5.73 | 5.7\",\n          \"5.71 | 5.5\",\n          \"53940.0 | 53929.0\"\n        ],\n        \"semantic_type\": \"\",\n        \"description\": \"\"\n      }\n    },\n    {\n      \"column\": \"z\",\n      \"properties\": {\n        \"dtype\": \"string\",\n        \"num_unique_values\": 8,\n        \"samples\": [\n          \"3.54 | 3.59\",\n          \"3.53 | 3.5\",\n          \"53940.0 | 53917.0\"\n        ],\n        \"semantic_type\": \"\",\n        \"description\": \"\"\n      }\n    }\n  ]\n}",
              "type": "dataframe"
            },
            "text/html": [
              "\n",
              "  <div id=\"df-122a60a7-a5a6-4034-a7a2-bbfb636bc25d\" class=\"colab-df-container\">\n",
              "    <div>\n",
              "<style scoped>\n",
              "    .dataframe tbody tr th:only-of-type {\n",
              "        vertical-align: middle;\n",
              "    }\n",
              "\n",
              "    .dataframe tbody tr th {\n",
              "        vertical-align: top;\n",
              "    }\n",
              "\n",
              "    .dataframe thead th {\n",
              "        text-align: right;\n",
              "    }\n",
              "</style>\n",
              "<table border=\"1\" class=\"dataframe\">\n",
              "  <thead>\n",
              "    <tr style=\"text-align: right;\">\n",
              "      <th></th>\n",
              "      <th>carat</th>\n",
              "      <th>depth</th>\n",
              "      <th>table</th>\n",
              "      <th>price</th>\n",
              "      <th>x</th>\n",
              "      <th>y</th>\n",
              "      <th>z</th>\n",
              "    </tr>\n",
              "    <tr>\n",
              "      <th>True | ε-DP</th>\n",
              "      <th></th>\n",
              "      <th></th>\n",
              "      <th></th>\n",
              "      <th></th>\n",
              "      <th></th>\n",
              "      <th></th>\n",
              "      <th></th>\n",
              "    </tr>\n",
              "  </thead>\n",
              "  <tbody>\n",
              "    <tr>\n",
              "      <th>count</th>\n",
              "      <td>53940.0 | 53937.0</td>\n",
              "      <td>53940.0 | 53909.0</td>\n",
              "      <td>53940.0 | 53934.0</td>\n",
              "      <td>53940.0 | 53915.0</td>\n",
              "      <td>53940.0 | 53937.0</td>\n",
              "      <td>53940.0 | 53929.0</td>\n",
              "      <td>53940.0 | 53917.0</td>\n",
              "    </tr>\n",
              "    <tr>\n",
              "      <th>mean</th>\n",
              "      <td>0.8 | 0.79</td>\n",
              "      <td>61.75 | 63.8</td>\n",
              "      <td>57.46 | 56.88</td>\n",
              "      <td>3932.8 | 4289.11</td>\n",
              "      <td>5.73 | 5.7</td>\n",
              "      <td>5.73 | 5.7</td>\n",
              "      <td>3.54 | 3.59</td>\n",
              "    </tr>\n",
              "    <tr>\n",
              "      <th>std</th>\n",
              "      <td>0.47 | 0.51</td>\n",
              "      <td>1.43 | 4.05</td>\n",
              "      <td>2.23 | 2.93</td>\n",
              "      <td>3989.44 | 3813.93</td>\n",
              "      <td>1.12 | 1.28</td>\n",
              "      <td>1.14 | 1.27</td>\n",
              "      <td>0.71 | 0.7</td>\n",
              "    </tr>\n",
              "    <tr>\n",
              "      <th>min</th>\n",
              "      <td>0.2 | 0.2</td>\n",
              "      <td>43.0 | 36.8</td>\n",
              "      <td>43.0 | 36.8</td>\n",
              "      <td>326.0 | 1881.6</td>\n",
              "      <td>0.0 | 2.7</td>\n",
              "      <td>0.0 | 2.7</td>\n",
              "      <td>0.0 | 2.3</td>\n",
              "    </tr>\n",
              "    <tr>\n",
              "      <th>25%</th>\n",
              "      <td>0.4 | 0.6</td>\n",
              "      <td>61.0 | 65.6</td>\n",
              "      <td>56.0 | 56.0</td>\n",
              "      <td>950.0 | 1881.6</td>\n",
              "      <td>4.71 | 4.1</td>\n",
              "      <td>4.72 | 4.1</td>\n",
              "      <td>2.91 | 2.9</td>\n",
              "    </tr>\n",
              "    <tr>\n",
              "      <th>50%</th>\n",
              "      <td>0.7 | 0.6</td>\n",
              "      <td>61.8 | 65.6</td>\n",
              "      <td>57.0 | 56.0</td>\n",
              "      <td>2401.0 | 1881.6</td>\n",
              "      <td>5.7 | 5.5</td>\n",
              "      <td>5.71 | 5.5</td>\n",
              "      <td>3.53 | 3.5</td>\n",
              "    </tr>\n",
              "    <tr>\n",
              "      <th>75%</th>\n",
              "      <td>1.04 | 1.0</td>\n",
              "      <td>62.5 | 65.6</td>\n",
              "      <td>59.0 | 56.0</td>\n",
              "      <td>5324.25 | 5132.8</td>\n",
              "      <td>6.54 | 6.9</td>\n",
              "      <td>6.54 | 6.9</td>\n",
              "      <td>4.04 | 4.1</td>\n",
              "    </tr>\n",
              "    <tr>\n",
              "      <th>max</th>\n",
              "      <td>5.01 | 3.8</td>\n",
              "      <td>79.0 | 123.2</td>\n",
              "      <td>95.0 | 123.2</td>\n",
              "      <td>18823.0 | 31142.4</td>\n",
              "      <td>10.74 | 15.3</td>\n",
              "      <td>58.9 | 15.3</td>\n",
              "      <td>31.8 | 7.7</td>\n",
              "    </tr>\n",
              "  </tbody>\n",
              "</table>\n",
              "</div>\n",
              "    <div class=\"colab-df-buttons\">\n",
              "\n",
              "  <div class=\"colab-df-container\">\n",
              "    <button class=\"colab-df-convert\" onclick=\"convertToInteractive('df-122a60a7-a5a6-4034-a7a2-bbfb636bc25d')\"\n",
              "            title=\"Convert this dataframe to an interactive table.\"\n",
              "            style=\"display:none;\">\n",
              "\n",
              "  <svg xmlns=\"http://www.w3.org/2000/svg\" height=\"24px\" viewBox=\"0 -960 960 960\">\n",
              "    <path d=\"M120-120v-720h720v720H120Zm60-500h600v-160H180v160Zm220 220h160v-160H400v160Zm0 220h160v-160H400v160ZM180-400h160v-160H180v160Zm440 0h160v-160H620v160ZM180-180h160v-160H180v160Zm440 0h160v-160H620v160Z\"/>\n",
              "  </svg>\n",
              "    </button>\n",
              "\n",
              "  <style>\n",
              "    .colab-df-container {\n",
              "      display:flex;\n",
              "      gap: 12px;\n",
              "    }\n",
              "\n",
              "    .colab-df-convert {\n",
              "      background-color: #E8F0FE;\n",
              "      border: none;\n",
              "      border-radius: 50%;\n",
              "      cursor: pointer;\n",
              "      display: none;\n",
              "      fill: #1967D2;\n",
              "      height: 32px;\n",
              "      padding: 0 0 0 0;\n",
              "      width: 32px;\n",
              "    }\n",
              "\n",
              "    .colab-df-convert:hover {\n",
              "      background-color: #E2EBFA;\n",
              "      box-shadow: 0px 1px 2px rgba(60, 64, 67, 0.3), 0px 1px 3px 1px rgba(60, 64, 67, 0.15);\n",
              "      fill: #174EA6;\n",
              "    }\n",
              "\n",
              "    .colab-df-buttons div {\n",
              "      margin-bottom: 4px;\n",
              "    }\n",
              "\n",
              "    [theme=dark] .colab-df-convert {\n",
              "      background-color: #3B4455;\n",
              "      fill: #D2E3FC;\n",
              "    }\n",
              "\n",
              "    [theme=dark] .colab-df-convert:hover {\n",
              "      background-color: #434B5C;\n",
              "      box-shadow: 0px 1px 3px 1px rgba(0, 0, 0, 0.15);\n",
              "      filter: drop-shadow(0px 1px 2px rgba(0, 0, 0, 0.3));\n",
              "      fill: #FFFFFF;\n",
              "    }\n",
              "  </style>\n",
              "\n",
              "    <script>\n",
              "      const buttonEl =\n",
              "        document.querySelector('#df-122a60a7-a5a6-4034-a7a2-bbfb636bc25d button.colab-df-convert');\n",
              "      buttonEl.style.display =\n",
              "        google.colab.kernel.accessAllowed ? 'block' : 'none';\n",
              "\n",
              "      async function convertToInteractive(key) {\n",
              "        const element = document.querySelector('#df-122a60a7-a5a6-4034-a7a2-bbfb636bc25d');\n",
              "        const dataTable =\n",
              "          await google.colab.kernel.invokeFunction('convertToInteractive',\n",
              "                                                    [key], {});\n",
              "        if (!dataTable) return;\n",
              "\n",
              "        const docLinkHtml = 'Like what you see? Visit the ' +\n",
              "          '<a target=\"_blank\" href=https://colab.research.google.com/notebooks/data_table.ipynb>data table notebook</a>'\n",
              "          + ' to learn more about interactive tables.';\n",
              "        element.innerHTML = '';\n",
              "        dataTable['output_type'] = 'display_data';\n",
              "        await google.colab.output.renderOutput(dataTable, element);\n",
              "        const docLink = document.createElement('div');\n",
              "        docLink.innerHTML = docLinkHtml;\n",
              "        element.appendChild(docLink);\n",
              "      }\n",
              "    </script>\n",
              "  </div>\n",
              "\n",
              "\n",
              "<div id=\"df-83a4f179-fcf4-482c-84a2-6ef622314ef5\">\n",
              "  <button class=\"colab-df-quickchart\" onclick=\"quickchart('df-83a4f179-fcf4-482c-84a2-6ef622314ef5')\"\n",
              "            title=\"Suggest charts\"\n",
              "            style=\"display:none;\">\n",
              "\n",
              "<svg xmlns=\"http://www.w3.org/2000/svg\" height=\"24px\"viewBox=\"0 0 24 24\"\n",
              "     width=\"24px\">\n",
              "    <g>\n",
              "        <path d=\"M19 3H5c-1.1 0-2 .9-2 2v14c0 1.1.9 2 2 2h14c1.1 0 2-.9 2-2V5c0-1.1-.9-2-2-2zM9 17H7v-7h2v7zm4 0h-2V7h2v10zm4 0h-2v-4h2v4z\"/>\n",
              "    </g>\n",
              "</svg>\n",
              "  </button>\n",
              "\n",
              "<style>\n",
              "  .colab-df-quickchart {\n",
              "      --bg-color: #E8F0FE;\n",
              "      --fill-color: #1967D2;\n",
              "      --hover-bg-color: #E2EBFA;\n",
              "      --hover-fill-color: #174EA6;\n",
              "      --disabled-fill-color: #AAA;\n",
              "      --disabled-bg-color: #DDD;\n",
              "  }\n",
              "\n",
              "  [theme=dark] .colab-df-quickchart {\n",
              "      --bg-color: #3B4455;\n",
              "      --fill-color: #D2E3FC;\n",
              "      --hover-bg-color: #434B5C;\n",
              "      --hover-fill-color: #FFFFFF;\n",
              "      --disabled-bg-color: #3B4455;\n",
              "      --disabled-fill-color: #666;\n",
              "  }\n",
              "\n",
              "  .colab-df-quickchart {\n",
              "    background-color: var(--bg-color);\n",
              "    border: none;\n",
              "    border-radius: 50%;\n",
              "    cursor: pointer;\n",
              "    display: none;\n",
              "    fill: var(--fill-color);\n",
              "    height: 32px;\n",
              "    padding: 0;\n",
              "    width: 32px;\n",
              "  }\n",
              "\n",
              "  .colab-df-quickchart:hover {\n",
              "    background-color: var(--hover-bg-color);\n",
              "    box-shadow: 0 1px 2px rgba(60, 64, 67, 0.3), 0 1px 3px 1px rgba(60, 64, 67, 0.15);\n",
              "    fill: var(--button-hover-fill-color);\n",
              "  }\n",
              "\n",
              "  .colab-df-quickchart-complete:disabled,\n",
              "  .colab-df-quickchart-complete:disabled:hover {\n",
              "    background-color: var(--disabled-bg-color);\n",
              "    fill: var(--disabled-fill-color);\n",
              "    box-shadow: none;\n",
              "  }\n",
              "\n",
              "  .colab-df-spinner {\n",
              "    border: 2px solid var(--fill-color);\n",
              "    border-color: transparent;\n",
              "    border-bottom-color: var(--fill-color);\n",
              "    animation:\n",
              "      spin 1s steps(1) infinite;\n",
              "  }\n",
              "\n",
              "  @keyframes spin {\n",
              "    0% {\n",
              "      border-color: transparent;\n",
              "      border-bottom-color: var(--fill-color);\n",
              "      border-left-color: var(--fill-color);\n",
              "    }\n",
              "    20% {\n",
              "      border-color: transparent;\n",
              "      border-left-color: var(--fill-color);\n",
              "      border-top-color: var(--fill-color);\n",
              "    }\n",
              "    30% {\n",
              "      border-color: transparent;\n",
              "      border-left-color: var(--fill-color);\n",
              "      border-top-color: var(--fill-color);\n",
              "      border-right-color: var(--fill-color);\n",
              "    }\n",
              "    40% {\n",
              "      border-color: transparent;\n",
              "      border-right-color: var(--fill-color);\n",
              "      border-top-color: var(--fill-color);\n",
              "    }\n",
              "    60% {\n",
              "      border-color: transparent;\n",
              "      border-right-color: var(--fill-color);\n",
              "    }\n",
              "    80% {\n",
              "      border-color: transparent;\n",
              "      border-right-color: var(--fill-color);\n",
              "      border-bottom-color: var(--fill-color);\n",
              "    }\n",
              "    90% {\n",
              "      border-color: transparent;\n",
              "      border-bottom-color: var(--fill-color);\n",
              "    }\n",
              "  }\n",
              "</style>\n",
              "\n",
              "  <script>\n",
              "    async function quickchart(key) {\n",
              "      const quickchartButtonEl =\n",
              "        document.querySelector('#' + key + ' button');\n",
              "      quickchartButtonEl.disabled = true;  // To prevent multiple clicks.\n",
              "      quickchartButtonEl.classList.add('colab-df-spinner');\n",
              "      try {\n",
              "        const charts = await google.colab.kernel.invokeFunction(\n",
              "            'suggestCharts', [key], {});\n",
              "      } catch (error) {\n",
              "        console.error('Error during call to suggestCharts:', error);\n",
              "      }\n",
              "      quickchartButtonEl.classList.remove('colab-df-spinner');\n",
              "      quickchartButtonEl.classList.add('colab-df-quickchart-complete');\n",
              "    }\n",
              "    (() => {\n",
              "      let quickchartButtonEl =\n",
              "        document.querySelector('#df-83a4f179-fcf4-482c-84a2-6ef622314ef5 button');\n",
              "      quickchartButtonEl.style.display =\n",
              "        google.colab.kernel.accessAllowed ? 'block' : 'none';\n",
              "    })();\n",
              "  </script>\n",
              "</div>\n",
              "    </div>\n",
              "  </div>\n"
            ],
            "text/plain": [
              "                         carat              depth              table  \\\n",
              "True | ε-DP                                                            \n",
              "count        53940.0 | 53937.0  53940.0 | 53909.0  53940.0 | 53934.0   \n",
              "mean                0.8 | 0.79       61.75 | 63.8      57.46 | 56.88   \n",
              "std                0.47 | 0.51        1.43 | 4.05        2.23 | 2.93   \n",
              "min                  0.2 | 0.2        43.0 | 36.8        43.0 | 36.8   \n",
              "25%                  0.4 | 0.6        61.0 | 65.6        56.0 | 56.0   \n",
              "50%                  0.7 | 0.6        61.8 | 65.6        57.0 | 56.0   \n",
              "75%                 1.04 | 1.0        62.5 | 65.6        59.0 | 56.0   \n",
              "max                 5.01 | 3.8       79.0 | 123.2       95.0 | 123.2   \n",
              "\n",
              "                         price                  x                  y  \\\n",
              "True | ε-DP                                                            \n",
              "count        53940.0 | 53915.0  53940.0 | 53937.0  53940.0 | 53929.0   \n",
              "mean          3932.8 | 4289.11         5.73 | 5.7         5.73 | 5.7   \n",
              "std          3989.44 | 3813.93        1.12 | 1.28        1.14 | 1.27   \n",
              "min             326.0 | 1881.6          0.0 | 2.7          0.0 | 2.7   \n",
              "25%             950.0 | 1881.6         4.71 | 4.1         4.72 | 4.1   \n",
              "50%            2401.0 | 1881.6          5.7 | 5.5         5.71 | 5.5   \n",
              "75%           5324.25 | 5132.8         6.54 | 6.9         6.54 | 6.9   \n",
              "max          18823.0 | 31142.4       10.74 | 15.3        58.9 | 15.3   \n",
              "\n",
              "                             z  \n",
              "True | ε-DP                     \n",
              "count        53940.0 | 53917.0  \n",
              "mean               3.54 | 3.59  \n",
              "std                 0.71 | 0.7  \n",
              "min                  0.0 | 2.3  \n",
              "25%                 2.91 | 2.9  \n",
              "50%                 3.53 | 3.5  \n",
              "75%                 4.04 | 4.1  \n",
              "max                 31.8 | 7.7  "
            ]
          },
          "execution_count": 14,
          "metadata": {},
          "output_type": "execute_result"
        }
      ],
      "source": [
        "import pandas as pd\n",
        "import numpy as np\n",
        "\n",
        "def compare_describe(desc1, desc2):\n",
        "  # Manually construct a new DataFrame\n",
        "  combined_stats = pd.DataFrame()\n",
        "  combined_stats.index.name = f'True | ε-DP'\n",
        "\n",
        "  for col in desc1.columns:\n",
        "      for index in desc1.index:\n",
        "          val1 = desc1.at[index, col]\n",
        "          val2 = desc2.at[index, col]\n",
        "          combined_stats.at[index, col] = f\"{val1} | {val2}\"\n",
        "\n",
        "  return combined_stats\n",
        "\n",
        "# Compare descriptive statistics\n",
        "compare_describe(diamonds.describe().round(2), samples.describe().round(2))"
      ]
    },
    {
      "cell_type": "code",
      "execution_count": null,
      "metadata": {
        "colab": {
          "base_uri": "https://localhost:8080/",
          "height": 449
        },
        "id": "ptD0UZsre6JN",
        "outputId": "86407970-09de-4c98-e7c5-6c5210d43f5b"
      },
      "outputs": [
        {
          "data": {
            "text/plain": [
              "<Axes: >"
            ]
          },
          "execution_count": 22,
          "metadata": {},
          "output_type": "execute_result"
        },
        {
          "data": {
            "image/png": "[encoded data removed]",
            "text/plain": [
              "<Figure size 600x600 with 2 Axes>"
            ]
          },
          "metadata": {},
          "output_type": "display_data"
        }
      ],
      "source": [
        "import matplotlib.pyplot as plt\n",
        "import seaborn as sns\n",
        "\n",
        "corr_matrix = samples.select_dtypes(\"float\").corr()\n",
        "\n",
        "# Set up the matplotlib figure\n",
        "plt.figure(figsize=(6, 6))\n",
        "\n",
        "# Draw the heatmap with the mask and correct aspect ratio\n",
        "sns.heatmap(corr_matrix, annot=True, fmt=\".2f\", cmap='coolwarm',\n",
        "            square=True, linewidths=.5, cbar_kws={\"shrink\": .5})\n"
      ]
    },
    {
      "cell_type": "code",
      "execution_count": null,
      "metadata": {
        "colab": {
          "base_uri": "https://localhost:8080/",
          "height": 449
        },
        "id": "jKJUJu6Ce86J",
        "outputId": "e638f948-5b5a-4540-c57e-d314709f5576"
      },
      "outputs": [
        {
          "data": {
            "text/plain": [
              "<Axes: >"
            ]
          },
          "execution_count": 23,
          "metadata": {},
          "output_type": "execute_result"
        },
        {
          "data": {
            "image/png": "[encoded data removed]",
            "text/plain": [
              "<Figure size 600x600 with 2 Axes>"
            ]
          },
          "metadata": {},
          "output_type": "display_data"
        }
      ],
      "source": [
        "corr_matrix = diamonds.select_dtypes(\"float\").corr()\n",
        "\n",
        "# Set up the matplotlib figure\n",
        "plt.figure(figsize=(6, 6))\n",
        "\n",
        "# Draw the heatmap with the mask and correct aspect ratio\n",
        "sns.heatmap(corr_matrix, annot=True, fmt=\".2f\", cmap='coolwarm',\n",
        "            square=True, linewidths=.5, cbar_kws={\"shrink\": .5})"
      ]
    },
    {
      "cell_type": "code",
      "execution_count": null,
      "metadata": {
        "id": "VsTyUjXtfZdS"
      },
      "outputs": [],
      "source": []
    }
  ],
  "metadata": {
    "colab": {
      "provenance": []
    },
    "kernelspec": {
      "display_name": "Python 3",
      "name": "python3"
    },
    "language_info": {
      "name": "python"
    }
  },
  "nbformat": 4,
  "nbformat_minor": 0
}
